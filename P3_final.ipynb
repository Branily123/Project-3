{
  "nbformat": 4,
  "nbformat_minor": 0,
  "metadata": {
    "colab": {
      "name": "P3 final ",
      "provenance": [],
      "collapsed_sections": [],
      "authorship_tag": "ABX9TyOXsPLDKQwG5uHpxSyUPttJ",
      "include_colab_link": true
    },
    "kernelspec": {
      "name": "python3",
      "display_name": "Python 3"
    }
  },
  "cells": [
    {
      "cell_type": "markdown",
      "metadata": {
        "id": "view-in-github",
        "colab_type": "text"
      },
      "source": [
        "<a href=\"https://colab.research.google.com/github/Branily123/Project-3/blob/master/P3_final.ipynb\" target=\"_parent\"><img src=\"https://colab.research.google.com/assets/colab-badge.svg\" alt=\"Open In Colab\"/></a>"
      ]
    },
    {
      "cell_type": "markdown",
      "metadata": {
        "id": "Zf0zRII0gQw_",
        "colab_type": "text"
      },
      "source": [
        "Which Issuing agency issues the most Violations in NYC for NY and Ohio License Vehicles"
      ]
    },
    {
      "cell_type": "code",
      "metadata": {
        "id": "VTJdtStphhJI",
        "colab_type": "code",
        "colab": {
          "base_uri": "https://localhost:8080/",
          "height": 949
        },
        "outputId": "a5828f75-b5bc-4e08-9d7a-d6c352c78893"
      },
      "source": [
        "#data pulled only focusing on violations given in NYC 2019-2020 for NY and OH plates#\n",
        "import pandas as pd\n",
        "import numpy as np\n",
        "dfexcel= pd.read_excel('https://raw.githubusercontent.com/ArsenioMGonzalez3/Project3_ABDS/master/Open%20Parking%20and%20Camera%20Violations_OH%20NY_2019_2020%20YTD.xlsx')\n",
        "dfexcel"
      ],
      "execution_count": null,
      "outputs": [
        {
          "output_type": "execute_result",
          "data": {
            "text/html": [
              "<div>\n",
              "<style scoped>\n",
              "    .dataframe tbody tr th:only-of-type {\n",
              "        vertical-align: middle;\n",
              "    }\n",
              "\n",
              "    .dataframe tbody tr th {\n",
              "        vertical-align: top;\n",
              "    }\n",
              "\n",
              "    .dataframe thead th {\n",
              "        text-align: right;\n",
              "    }\n",
              "</style>\n",
              "<table border=\"1\" class=\"dataframe\">\n",
              "  <thead>\n",
              "    <tr style=\"text-align: right;\">\n",
              "      <th></th>\n",
              "      <th>Plate</th>\n",
              "      <th>State</th>\n",
              "      <th>License Type</th>\n",
              "      <th>Summons Number</th>\n",
              "      <th>Issue Date</th>\n",
              "      <th>Violation Time</th>\n",
              "      <th>Violation</th>\n",
              "      <th>Judgment Entry Date</th>\n",
              "      <th>Fine Amount</th>\n",
              "      <th>Penalty Amount</th>\n",
              "      <th>Interest Amount</th>\n",
              "      <th>Reduction Amount</th>\n",
              "      <th>Payment Amount</th>\n",
              "      <th>Amount Due</th>\n",
              "      <th>Precinct</th>\n",
              "      <th>County</th>\n",
              "      <th>Issuing Agency</th>\n",
              "      <th>Violation Status</th>\n",
              "      <th>Summons Image</th>\n",
              "    </tr>\n",
              "  </thead>\n",
              "  <tbody>\n",
              "    <tr>\n",
              "      <th>0</th>\n",
              "      <td>T779796C</td>\n",
              "      <td>NY</td>\n",
              "      <td>OMT</td>\n",
              "      <td>4010739587</td>\n",
              "      <td>2019-03-11</td>\n",
              "      <td>07:58A</td>\n",
              "      <td>BUS LANE VIOLATION</td>\n",
              "      <td>2019-09-05</td>\n",
              "      <td>115</td>\n",
              "      <td>25</td>\n",
              "      <td>0.89</td>\n",
              "      <td>0.0</td>\n",
              "      <td>140.89</td>\n",
              "      <td>0.0</td>\n",
              "      <td>0</td>\n",
              "      <td>BX</td>\n",
              "      <td>DEPARTMENT OF TRANSPORTATION</td>\n",
              "      <td>HEARING HELD-GUILTY</td>\n",
              "      <td>View Summons (http://nycserv.nyc.gov/NYCServWe...</td>\n",
              "    </tr>\n",
              "    <tr>\n",
              "      <th>1</th>\n",
              "      <td>GPV1104</td>\n",
              "      <td>NY</td>\n",
              "      <td>PAS</td>\n",
              "      <td>4681390719</td>\n",
              "      <td>2020-03-17</td>\n",
              "      <td>03:43P</td>\n",
              "      <td>PHTO SCHOOL ZN SPEED VIOLATION</td>\n",
              "      <td>NaT</td>\n",
              "      <td>50</td>\n",
              "      <td>0</td>\n",
              "      <td>0.00</td>\n",
              "      <td>0.0</td>\n",
              "      <td>0.00</td>\n",
              "      <td>50.0</td>\n",
              "      <td>0</td>\n",
              "      <td>BK</td>\n",
              "      <td>DEPARTMENT OF TRANSPORTATION</td>\n",
              "      <td>HEARING PENDING</td>\n",
              "      <td>View Summons (http://nycserv.nyc.gov/NYCServWe...</td>\n",
              "    </tr>\n",
              "    <tr>\n",
              "      <th>2</th>\n",
              "      <td>T718661C</td>\n",
              "      <td>NY</td>\n",
              "      <td>OMT</td>\n",
              "      <td>4687842677</td>\n",
              "      <td>2020-04-21</td>\n",
              "      <td>07:18P</td>\n",
              "      <td>PHTO SCHOOL ZN SPEED VIOLATION</td>\n",
              "      <td>NaT</td>\n",
              "      <td>50</td>\n",
              "      <td>0</td>\n",
              "      <td>0.00</td>\n",
              "      <td>0.0</td>\n",
              "      <td>50.00</td>\n",
              "      <td>0.0</td>\n",
              "      <td>0</td>\n",
              "      <td>QN</td>\n",
              "      <td>DEPARTMENT OF TRANSPORTATION</td>\n",
              "      <td>HEARING HELD-GUILTY</td>\n",
              "      <td>View Summons (http://nycserv.nyc.gov/NYCServWe...</td>\n",
              "    </tr>\n",
              "    <tr>\n",
              "      <th>3</th>\n",
              "      <td>HRR5155</td>\n",
              "      <td>NY</td>\n",
              "      <td>PAS</td>\n",
              "      <td>4681391645</td>\n",
              "      <td>2020-03-17</td>\n",
              "      <td>03:48P</td>\n",
              "      <td>PHTO SCHOOL ZN SPEED VIOLATION</td>\n",
              "      <td>NaT</td>\n",
              "      <td>50</td>\n",
              "      <td>0</td>\n",
              "      <td>0.00</td>\n",
              "      <td>0.0</td>\n",
              "      <td>0.00</td>\n",
              "      <td>50.0</td>\n",
              "      <td>0</td>\n",
              "      <td>BK</td>\n",
              "      <td>DEPARTMENT OF TRANSPORTATION</td>\n",
              "      <td>HEARING PENDING</td>\n",
              "      <td>View Summons (http://nycserv.nyc.gov/NYCServWe...</td>\n",
              "    </tr>\n",
              "    <tr>\n",
              "      <th>4</th>\n",
              "      <td>GSL3431</td>\n",
              "      <td>NY</td>\n",
              "      <td>PAS</td>\n",
              "      <td>4681391694</td>\n",
              "      <td>2020-03-17</td>\n",
              "      <td>03:49P</td>\n",
              "      <td>PHTO SCHOOL ZN SPEED VIOLATION</td>\n",
              "      <td>NaT</td>\n",
              "      <td>50</td>\n",
              "      <td>0</td>\n",
              "      <td>0.00</td>\n",
              "      <td>0.0</td>\n",
              "      <td>0.00</td>\n",
              "      <td>50.0</td>\n",
              "      <td>0</td>\n",
              "      <td>BK</td>\n",
              "      <td>DEPARTMENT OF TRANSPORTATION</td>\n",
              "      <td>HEARING PENDING</td>\n",
              "      <td>View Summons (http://nycserv.nyc.gov/NYCServWe...</td>\n",
              "    </tr>\n",
              "    <tr>\n",
              "      <th>...</th>\n",
              "      <td>...</td>\n",
              "      <td>...</td>\n",
              "      <td>...</td>\n",
              "      <td>...</td>\n",
              "      <td>...</td>\n",
              "      <td>...</td>\n",
              "      <td>...</td>\n",
              "      <td>...</td>\n",
              "      <td>...</td>\n",
              "      <td>...</td>\n",
              "      <td>...</td>\n",
              "      <td>...</td>\n",
              "      <td>...</td>\n",
              "      <td>...</td>\n",
              "      <td>...</td>\n",
              "      <td>...</td>\n",
              "      <td>...</td>\n",
              "      <td>...</td>\n",
              "      <td>...</td>\n",
              "    </tr>\n",
              "    <tr>\n",
              "      <th>61622</th>\n",
              "      <td>84867</td>\n",
              "      <td>NY</td>\n",
              "      <td>MED</td>\n",
              "      <td>4691903318</td>\n",
              "      <td>2020-05-21</td>\n",
              "      <td>09:56A</td>\n",
              "      <td>PHTO SCHOOL ZN SPEED VIOLATION</td>\n",
              "      <td>NaT</td>\n",
              "      <td>50</td>\n",
              "      <td>0</td>\n",
              "      <td>0.00</td>\n",
              "      <td>0.0</td>\n",
              "      <td>0.00</td>\n",
              "      <td>50.0</td>\n",
              "      <td>0</td>\n",
              "      <td>MN</td>\n",
              "      <td>DEPARTMENT OF TRANSPORTATION</td>\n",
              "      <td>HEARING PENDING</td>\n",
              "      <td>View Summons (http://nycserv.nyc.gov/NYCServWe...</td>\n",
              "    </tr>\n",
              "    <tr>\n",
              "      <th>61623</th>\n",
              "      <td>GXW8820</td>\n",
              "      <td>NY</td>\n",
              "      <td>PAS</td>\n",
              "      <td>8690529032</td>\n",
              "      <td>2019-03-29</td>\n",
              "      <td>01:15P</td>\n",
              "      <td>DOUBLE PARKING</td>\n",
              "      <td>NaT</td>\n",
              "      <td>115</td>\n",
              "      <td>0</td>\n",
              "      <td>0.00</td>\n",
              "      <td>115.0</td>\n",
              "      <td>0.00</td>\n",
              "      <td>0.0</td>\n",
              "      <td>49</td>\n",
              "      <td>BX</td>\n",
              "      <td>TRAFFIC</td>\n",
              "      <td>HEARING HELD-NOT GUILTY</td>\n",
              "      <td>View Summons (http://nycserv.nyc.gov/NYCServWe...</td>\n",
              "    </tr>\n",
              "    <tr>\n",
              "      <th>61624</th>\n",
              "      <td>GGC4167</td>\n",
              "      <td>NY</td>\n",
              "      <td>PAS</td>\n",
              "      <td>8694366022</td>\n",
              "      <td>2019-02-05</td>\n",
              "      <td>01:59P</td>\n",
              "      <td>FAIL TO DSPLY MUNI METER RECPT</td>\n",
              "      <td>NaT</td>\n",
              "      <td>35</td>\n",
              "      <td>10</td>\n",
              "      <td>0.00</td>\n",
              "      <td>0.0</td>\n",
              "      <td>45.00</td>\n",
              "      <td>0.0</td>\n",
              "      <td>112</td>\n",
              "      <td>Q</td>\n",
              "      <td>TRAFFIC</td>\n",
              "      <td>HEARING HELD-GUILTY</td>\n",
              "      <td>View Summons (http://nycserv.nyc.gov/NYCServWe...</td>\n",
              "    </tr>\n",
              "    <tr>\n",
              "      <th>61625</th>\n",
              "      <td>T752662C</td>\n",
              "      <td>NY</td>\n",
              "      <td>OMT</td>\n",
              "      <td>4691904098</td>\n",
              "      <td>2020-05-21</td>\n",
              "      <td>10:15A</td>\n",
              "      <td>PHTO SCHOOL ZN SPEED VIOLATION</td>\n",
              "      <td>NaT</td>\n",
              "      <td>50</td>\n",
              "      <td>0</td>\n",
              "      <td>0.00</td>\n",
              "      <td>0.0</td>\n",
              "      <td>0.00</td>\n",
              "      <td>50.0</td>\n",
              "      <td>0</td>\n",
              "      <td>BK</td>\n",
              "      <td>DEPARTMENT OF TRANSPORTATION</td>\n",
              "      <td>HEARING PENDING</td>\n",
              "      <td>View Summons (http://nycserv.nyc.gov/NYCServWe...</td>\n",
              "    </tr>\n",
              "    <tr>\n",
              "      <th>61626</th>\n",
              "      <td>HYH1079</td>\n",
              "      <td>NY</td>\n",
              "      <td>PAS</td>\n",
              "      <td>8690529585</td>\n",
              "      <td>2019-04-04</td>\n",
              "      <td>12:05P</td>\n",
              "      <td>DOUBLE PARKING</td>\n",
              "      <td>NaT</td>\n",
              "      <td>115</td>\n",
              "      <td>0</td>\n",
              "      <td>0.00</td>\n",
              "      <td>0.0</td>\n",
              "      <td>115.00</td>\n",
              "      <td>0.0</td>\n",
              "      <td>49</td>\n",
              "      <td>BX</td>\n",
              "      <td>TRAFFIC</td>\n",
              "      <td>HEARING HELD-GUILTY</td>\n",
              "      <td>View Summons (http://nycserv.nyc.gov/NYCServWe...</td>\n",
              "    </tr>\n",
              "  </tbody>\n",
              "</table>\n",
              "<p>61627 rows × 19 columns</p>\n",
              "</div>"
            ],
            "text/plain": [
              "          Plate  ...                                      Summons Image\n",
              "0      T779796C  ...  View Summons (http://nycserv.nyc.gov/NYCServWe...\n",
              "1       GPV1104  ...  View Summons (http://nycserv.nyc.gov/NYCServWe...\n",
              "2      T718661C  ...  View Summons (http://nycserv.nyc.gov/NYCServWe...\n",
              "3       HRR5155  ...  View Summons (http://nycserv.nyc.gov/NYCServWe...\n",
              "4       GSL3431  ...  View Summons (http://nycserv.nyc.gov/NYCServWe...\n",
              "...         ...  ...                                                ...\n",
              "61622     84867  ...  View Summons (http://nycserv.nyc.gov/NYCServWe...\n",
              "61623   GXW8820  ...  View Summons (http://nycserv.nyc.gov/NYCServWe...\n",
              "61624   GGC4167  ...  View Summons (http://nycserv.nyc.gov/NYCServWe...\n",
              "61625  T752662C  ...  View Summons (http://nycserv.nyc.gov/NYCServWe...\n",
              "61626   HYH1079  ...  View Summons (http://nycserv.nyc.gov/NYCServWe...\n",
              "\n",
              "[61627 rows x 19 columns]"
            ]
          },
          "metadata": {
            "tags": []
          },
          "execution_count": 66
        }
      ]
    },
    {
      "cell_type": "code",
      "metadata": {
        "id": "eXsIE6rzVARZ",
        "colab_type": "code",
        "colab": {
          "base_uri": "https://localhost:8080/",
          "height": 419
        },
        "outputId": "0e3d307f-5e45-4f31-ce50-9c20cddb9f9b"
      },
      "source": [
        "import pandas as pd\n",
        "import seaborn as sns\n",
        "dfexcel= pd.read_excel('https://raw.githubusercontent.com/ArsenioMGonzalez3/Project3_ABDS/master/Open%20Parking%20and%20Camera%20Violations_OH%20NY_2019_2020%20YTD.xlsx')\n",
        "dfexcel = dfexcel[['Issuing Agency','State']].sort_values(by = 'Issuing Agency' ,  ascending=False)\n",
        "dfexcel"
      ],
      "execution_count": null,
      "outputs": [
        {
          "output_type": "execute_result",
          "data": {
            "text/html": [
              "<div>\n",
              "<style scoped>\n",
              "    .dataframe tbody tr th:only-of-type {\n",
              "        vertical-align: middle;\n",
              "    }\n",
              "\n",
              "    .dataframe tbody tr th {\n",
              "        vertical-align: top;\n",
              "    }\n",
              "\n",
              "    .dataframe thead th {\n",
              "        text-align: right;\n",
              "    }\n",
              "</style>\n",
              "<table border=\"1\" class=\"dataframe\">\n",
              "  <thead>\n",
              "    <tr style=\"text-align: right;\">\n",
              "      <th></th>\n",
              "      <th>Issuing Agency</th>\n",
              "      <th>State</th>\n",
              "    </tr>\n",
              "  </thead>\n",
              "  <tbody>\n",
              "    <tr>\n",
              "      <th>61626</th>\n",
              "      <td>TRAFFIC</td>\n",
              "      <td>NY</td>\n",
              "    </tr>\n",
              "    <tr>\n",
              "      <th>24467</th>\n",
              "      <td>TRAFFIC</td>\n",
              "      <td>NY</td>\n",
              "    </tr>\n",
              "    <tr>\n",
              "      <th>24610</th>\n",
              "      <td>TRAFFIC</td>\n",
              "      <td>NY</td>\n",
              "    </tr>\n",
              "    <tr>\n",
              "      <th>24609</th>\n",
              "      <td>TRAFFIC</td>\n",
              "      <td>NY</td>\n",
              "    </tr>\n",
              "    <tr>\n",
              "      <th>24606</th>\n",
              "      <td>TRAFFIC</td>\n",
              "      <td>NY</td>\n",
              "    </tr>\n",
              "    <tr>\n",
              "      <th>...</th>\n",
              "      <td>...</td>\n",
              "      <td>...</td>\n",
              "    </tr>\n",
              "    <tr>\n",
              "      <th>28020</th>\n",
              "      <td>DEPARTMENT OF SANITATION</td>\n",
              "      <td>NY</td>\n",
              "    </tr>\n",
              "    <tr>\n",
              "      <th>28028</th>\n",
              "      <td>DEPARTMENT OF SANITATION</td>\n",
              "      <td>NY</td>\n",
              "    </tr>\n",
              "    <tr>\n",
              "      <th>42125</th>\n",
              "      <td>DEPARTMENT OF SANITATION</td>\n",
              "      <td>NY</td>\n",
              "    </tr>\n",
              "    <tr>\n",
              "      <th>47065</th>\n",
              "      <td>CON RAIL</td>\n",
              "      <td>NY</td>\n",
              "    </tr>\n",
              "    <tr>\n",
              "      <th>37723</th>\n",
              "      <td>CON RAIL</td>\n",
              "      <td>NY</td>\n",
              "    </tr>\n",
              "  </tbody>\n",
              "</table>\n",
              "<p>61627 rows × 2 columns</p>\n",
              "</div>"
            ],
            "text/plain": [
              "                 Issuing Agency State\n",
              "61626                   TRAFFIC    NY\n",
              "24467                   TRAFFIC    NY\n",
              "24610                   TRAFFIC    NY\n",
              "24609                   TRAFFIC    NY\n",
              "24606                   TRAFFIC    NY\n",
              "...                         ...   ...\n",
              "28020  DEPARTMENT OF SANITATION    NY\n",
              "28028  DEPARTMENT OF SANITATION    NY\n",
              "42125  DEPARTMENT OF SANITATION    NY\n",
              "47065                  CON RAIL    NY\n",
              "37723                  CON RAIL    NY\n",
              "\n",
              "[61627 rows x 2 columns]"
            ]
          },
          "metadata": {
            "tags": []
          },
          "execution_count": 37
        }
      ]
    },
    {
      "cell_type": "code",
      "metadata": {
        "id": "aJ_io5MDM_PL",
        "colab_type": "code",
        "colab": {
          "base_uri": "https://localhost:8080/",
          "height": 34
        },
        "outputId": "78d57cb5-106f-472e-cdf0-6f776bae9685"
      },
      "source": [
        "import pandas as pd\n",
        "import seaborn as sns\n",
        "dfexcel= pd.read_excel('https://raw.githubusercontent.com/ArsenioMGonzalez3/Project3_ABDS/master/Open%20Parking%20and%20Camera%20Violations_OH%20NY_2019_2020%20YTD.xlsx')\n",
        "dfexcel = dfexcel[['Issuing Agency','State']].sort_values(by = 'Issuing Agency' ,  ascending=False)\n",
        "dfexcel\n",
        "dfexcel.shape"
      ],
      "execution_count": null,
      "outputs": [
        {
          "output_type": "execute_result",
          "data": {
            "text/plain": [
              "(61627, 2)"
            ]
          },
          "metadata": {
            "tags": []
          },
          "execution_count": 65
        }
      ]
    },
    {
      "cell_type": "code",
      "metadata": {
        "id": "XLLlRavP79Am",
        "colab_type": "code",
        "colab": {
          "base_uri": "https://localhost:8080/",
          "height": 238
        },
        "outputId": "2eeba987-c786-4ea7-c005-2235bc404e26"
      },
      "source": [
        "#total violations issued from all NYC agencies for both NY and OH plates#\n",
        "import pandas as pd\n",
        "import dateutil\n",
        "dfexcel= pd.read_excel('https://raw.githubusercontent.com/ArsenioMGonzalez3/Project3_ABDS/master/Open%20Parking%20and%20Camera%20Violations_OH%20NY_2019_2020%20YTD.xlsx')\n",
        "dfexcel['State'].value_counts()\n",
        "dfexcel['Issuing Agency'].value_counts()\n"
      ],
      "execution_count": null,
      "outputs": [
        {
          "output_type": "execute_result",
          "data": {
            "text/plain": [
              "TRAFFIC                               26379\n",
              "DEPARTMENT OF TRANSPORTATION          22112\n",
              "POLICE DEPARTMENT                     10353\n",
              "DEPARTMENT OF SANITATION               2464\n",
              "OTHER/UNKNOWN AGENCIES                  239\n",
              "PARKS DEPARTMENT                         55\n",
              "FIRE DEPARTMENT                           8\n",
              "NYC TRANSIT AUTHORITY MANAGERS            6\n",
              "PORT AUTHORITY                            5\n",
              "CON RAIL                                  2\n",
              "NYS OFFICE OF MENTAL HEALTH POLICE        2\n",
              "HOUSING AUTHORITY                         2\n",
              "Name: Issuing Agency, dtype: int64"
            ]
          },
          "metadata": {
            "tags": []
          },
          "execution_count": 6
        }
      ]
    },
    {
      "cell_type": "code",
      "metadata": {
        "id": "m_kTQmc3UmOr",
        "colab_type": "code",
        "colab": {
          "base_uri": "https://localhost:8080/",
          "height": 238
        },
        "outputId": "e51bbbe7-1979-488d-eae5-0985f380a53b"
      },
      "source": [
        "# percentage total violations issued from all NYC agencies for both NY and OH plates#\n",
        "import pandas as pd\n",
        "import seaborn as sns\n",
        "dfexcel= pd.read_excel('https://raw.githubusercontent.com/ArsenioMGonzalez3/Project3_ABDS/master/Open%20Parking%20and%20Camera%20Violations_OH%20NY_2019_2020%20YTD.xlsx')\n",
        "dfexcel\n",
        "dfexcel['Issuing Agency'].value_counts(normalize=True)\n"
      ],
      "execution_count": null,
      "outputs": [
        {
          "output_type": "execute_result",
          "data": {
            "text/plain": [
              "TRAFFIC                               0.428043\n",
              "DEPARTMENT OF TRANSPORTATION          0.358804\n",
              "POLICE DEPARTMENT                     0.167995\n",
              "DEPARTMENT OF SANITATION              0.039982\n",
              "OTHER/UNKNOWN AGENCIES                0.003878\n",
              "PARKS DEPARTMENT                      0.000892\n",
              "FIRE DEPARTMENT                       0.000130\n",
              "NYC TRANSIT AUTHORITY MANAGERS        0.000097\n",
              "PORT AUTHORITY                        0.000081\n",
              "CON RAIL                              0.000032\n",
              "NYS OFFICE OF MENTAL HEALTH POLICE    0.000032\n",
              "HOUSING AUTHORITY                     0.000032\n",
              "Name: Issuing Agency, dtype: float64"
            ]
          },
          "metadata": {
            "tags": []
          },
          "execution_count": 55
        }
      ]
    },
    {
      "cell_type": "code",
      "metadata": {
        "id": "0Yl7n5rFV1oa",
        "colab_type": "code",
        "colab": {
          "base_uri": "https://localhost:8080/",
          "height": 542
        },
        "outputId": "42c45bc2-c1b6-496e-cc57-72d5fc02e3be"
      },
      "source": [
        "#create visualtion that displays percentage of violations given to both NY and OH registered vechicles from 2019-2020#\n",
        "import plotly.graph_objects as go\n",
        "\n",
        "# Data to plot\n",
        "labels = ['Traffic', 'Dept. Transportation','Police Dept.', 'Dept. Sanitation','Other/Unknown','Parks Dept', 'Fire Dept', 'Transit Auth', 'Port Auth', 'Con Rail', 'Mental Health Police', 'Housing Authority']\n",
        "values = [42,35,16,3,.38,.089,.013,.009,.008,.003,.003,.003]\n",
        "fig = go.Figure(data=[go.Pie(labels=labels, values=values, title='Violations Issued by Agency to NY & OH registered vechiles b/w 2019-2020', pull=[0,0,0,0,0.2,0,0,0,0,0,0,0])])\n",
        "fig.show()"
      ],
      "execution_count": null,
      "outputs": [
        {
          "output_type": "display_data",
          "data": {
            "text/html": [
              "<html>\n",
              "<head><meta charset=\"utf-8\" /></head>\n",
              "<body>\n",
              "    <div>\n",
              "            <script src=\"https://cdnjs.cloudflare.com/ajax/libs/mathjax/2.7.5/MathJax.js?config=TeX-AMS-MML_SVG\"></script><script type=\"text/javascript\">if (window.MathJax) {MathJax.Hub.Config({SVG: {font: \"STIX-Web\"}});}</script>\n",
              "                <script type=\"text/javascript\">window.PlotlyConfig = {MathJaxConfig: 'local'};</script>\n",
              "        <script src=\"https://cdn.plot.ly/plotly-latest.min.js\"></script>    \n",
              "            <div id=\"ac3acbc5-f911-47ed-b5b1-de30ecd9d589\" class=\"plotly-graph-div\" style=\"height:525px; width:100%;\"></div>\n",
              "            <script type=\"text/javascript\">\n",
              "                \n",
              "                    window.PLOTLYENV=window.PLOTLYENV || {};\n",
              "                    \n",
              "                if (document.getElementById(\"ac3acbc5-f911-47ed-b5b1-de30ecd9d589\")) {\n",
              "                    Plotly.newPlot(\n",
              "                        'ac3acbc5-f911-47ed-b5b1-de30ecd9d589',\n",
              "                        [{\"labels\": [\"Traffic\", \"Dept. Transportation\", \"Police Dept.\", \"Dept. Sanitation\", \"Other/Unknown\", \"Parks Dept\", \"Fire Dept\", \"Transit Auth\", \"Port Auth\", \"Con Rail\", \"Mental Health Police\", \"Housing Authority\"], \"pull\": [0, 0, 0, 0, 0.2, 0, 0, 0, 0, 0, 0, 0], \"title\": {\"text\": \"Violations Issued by Agency to NY & OH registered vechiles b/w 2019-2020\"}, \"type\": \"pie\", \"values\": [42, 35, 16, 3, 0.38, 0.089, 0.013, 0.009, 0.008, 0.003, 0.003, 0.003]}],\n",
              "                        {\"template\": {\"data\": {\"bar\": [{\"error_x\": {\"color\": \"#2a3f5f\"}, \"error_y\": {\"color\": \"#2a3f5f\"}, \"marker\": {\"line\": {\"color\": \"#E5ECF6\", \"width\": 0.5}}, \"type\": \"bar\"}], \"barpolar\": [{\"marker\": {\"line\": {\"color\": \"#E5ECF6\", \"width\": 0.5}}, \"type\": \"barpolar\"}], \"carpet\": [{\"aaxis\": {\"endlinecolor\": \"#2a3f5f\", \"gridcolor\": \"white\", \"linecolor\": \"white\", \"minorgridcolor\": \"white\", \"startlinecolor\": \"#2a3f5f\"}, \"baxis\": {\"endlinecolor\": \"#2a3f5f\", \"gridcolor\": \"white\", \"linecolor\": \"white\", \"minorgridcolor\": \"white\", \"startlinecolor\": \"#2a3f5f\"}, \"type\": \"carpet\"}], \"choropleth\": [{\"colorbar\": {\"outlinewidth\": 0, \"ticks\": \"\"}, \"type\": \"choropleth\"}], \"contour\": [{\"colorbar\": {\"outlinewidth\": 0, \"ticks\": \"\"}, \"colorscale\": [[0.0, \"#0d0887\"], [0.1111111111111111, \"#46039f\"], [0.2222222222222222, \"#7201a8\"], [0.3333333333333333, \"#9c179e\"], [0.4444444444444444, \"#bd3786\"], [0.5555555555555556, \"#d8576b\"], [0.6666666666666666, \"#ed7953\"], [0.7777777777777778, \"#fb9f3a\"], [0.8888888888888888, \"#fdca26\"], [1.0, \"#f0f921\"]], \"type\": \"contour\"}], \"contourcarpet\": [{\"colorbar\": {\"outlinewidth\": 0, \"ticks\": \"\"}, \"type\": \"contourcarpet\"}], \"heatmap\": [{\"colorbar\": {\"outlinewidth\": 0, \"ticks\": \"\"}, \"colorscale\": [[0.0, \"#0d0887\"], [0.1111111111111111, \"#46039f\"], [0.2222222222222222, \"#7201a8\"], [0.3333333333333333, \"#9c179e\"], [0.4444444444444444, \"#bd3786\"], [0.5555555555555556, \"#d8576b\"], [0.6666666666666666, \"#ed7953\"], [0.7777777777777778, \"#fb9f3a\"], [0.8888888888888888, \"#fdca26\"], [1.0, \"#f0f921\"]], \"type\": \"heatmap\"}], \"heatmapgl\": [{\"colorbar\": {\"outlinewidth\": 0, \"ticks\": \"\"}, \"colorscale\": [[0.0, \"#0d0887\"], [0.1111111111111111, \"#46039f\"], [0.2222222222222222, \"#7201a8\"], [0.3333333333333333, \"#9c179e\"], [0.4444444444444444, \"#bd3786\"], [0.5555555555555556, \"#d8576b\"], [0.6666666666666666, \"#ed7953\"], [0.7777777777777778, \"#fb9f3a\"], [0.8888888888888888, \"#fdca26\"], [1.0, \"#f0f921\"]], \"type\": \"heatmapgl\"}], \"histogram\": [{\"marker\": {\"colorbar\": {\"outlinewidth\": 0, \"ticks\": \"\"}}, \"type\": \"histogram\"}], \"histogram2d\": [{\"colorbar\": {\"outlinewidth\": 0, \"ticks\": \"\"}, \"colorscale\": [[0.0, \"#0d0887\"], [0.1111111111111111, \"#46039f\"], [0.2222222222222222, \"#7201a8\"], [0.3333333333333333, \"#9c179e\"], [0.4444444444444444, \"#bd3786\"], [0.5555555555555556, \"#d8576b\"], [0.6666666666666666, \"#ed7953\"], [0.7777777777777778, \"#fb9f3a\"], [0.8888888888888888, \"#fdca26\"], [1.0, \"#f0f921\"]], \"type\": \"histogram2d\"}], \"histogram2dcontour\": [{\"colorbar\": {\"outlinewidth\": 0, \"ticks\": \"\"}, \"colorscale\": [[0.0, \"#0d0887\"], [0.1111111111111111, \"#46039f\"], [0.2222222222222222, \"#7201a8\"], [0.3333333333333333, \"#9c179e\"], [0.4444444444444444, \"#bd3786\"], [0.5555555555555556, \"#d8576b\"], [0.6666666666666666, \"#ed7953\"], [0.7777777777777778, \"#fb9f3a\"], [0.8888888888888888, \"#fdca26\"], [1.0, \"#f0f921\"]], \"type\": \"histogram2dcontour\"}], \"mesh3d\": [{\"colorbar\": {\"outlinewidth\": 0, \"ticks\": \"\"}, \"type\": \"mesh3d\"}], \"parcoords\": [{\"line\": {\"colorbar\": {\"outlinewidth\": 0, \"ticks\": \"\"}}, \"type\": \"parcoords\"}], \"pie\": [{\"automargin\": true, \"type\": \"pie\"}], \"scatter\": [{\"marker\": {\"colorbar\": {\"outlinewidth\": 0, \"ticks\": \"\"}}, \"type\": \"scatter\"}], \"scatter3d\": [{\"line\": {\"colorbar\": {\"outlinewidth\": 0, \"ticks\": \"\"}}, \"marker\": {\"colorbar\": {\"outlinewidth\": 0, \"ticks\": \"\"}}, \"type\": \"scatter3d\"}], \"scattercarpet\": [{\"marker\": {\"colorbar\": {\"outlinewidth\": 0, \"ticks\": \"\"}}, \"type\": \"scattercarpet\"}], \"scattergeo\": [{\"marker\": {\"colorbar\": {\"outlinewidth\": 0, \"ticks\": \"\"}}, \"type\": \"scattergeo\"}], \"scattergl\": [{\"marker\": {\"colorbar\": {\"outlinewidth\": 0, \"ticks\": \"\"}}, \"type\": \"scattergl\"}], \"scattermapbox\": [{\"marker\": {\"colorbar\": {\"outlinewidth\": 0, \"ticks\": \"\"}}, \"type\": \"scattermapbox\"}], \"scatterpolar\": [{\"marker\": {\"colorbar\": {\"outlinewidth\": 0, \"ticks\": \"\"}}, \"type\": \"scatterpolar\"}], \"scatterpolargl\": [{\"marker\": {\"colorbar\": {\"outlinewidth\": 0, \"ticks\": \"\"}}, \"type\": \"scatterpolargl\"}], \"scatterternary\": [{\"marker\": {\"colorbar\": {\"outlinewidth\": 0, \"ticks\": \"\"}}, \"type\": \"scatterternary\"}], \"surface\": [{\"colorbar\": {\"outlinewidth\": 0, \"ticks\": \"\"}, \"colorscale\": [[0.0, \"#0d0887\"], [0.1111111111111111, \"#46039f\"], [0.2222222222222222, \"#7201a8\"], [0.3333333333333333, \"#9c179e\"], [0.4444444444444444, \"#bd3786\"], [0.5555555555555556, \"#d8576b\"], [0.6666666666666666, \"#ed7953\"], [0.7777777777777778, \"#fb9f3a\"], [0.8888888888888888, \"#fdca26\"], [1.0, \"#f0f921\"]], \"type\": \"surface\"}], \"table\": [{\"cells\": {\"fill\": {\"color\": \"#EBF0F8\"}, \"line\": {\"color\": \"white\"}}, \"header\": {\"fill\": {\"color\": \"#C8D4E3\"}, \"line\": {\"color\": \"white\"}}, \"type\": \"table\"}]}, \"layout\": {\"annotationdefaults\": {\"arrowcolor\": \"#2a3f5f\", \"arrowhead\": 0, \"arrowwidth\": 1}, \"coloraxis\": {\"colorbar\": {\"outlinewidth\": 0, \"ticks\": \"\"}}, \"colorscale\": {\"diverging\": [[0, \"#8e0152\"], [0.1, \"#c51b7d\"], [0.2, \"#de77ae\"], [0.3, \"#f1b6da\"], [0.4, \"#fde0ef\"], [0.5, \"#f7f7f7\"], [0.6, \"#e6f5d0\"], [0.7, \"#b8e186\"], [0.8, \"#7fbc41\"], [0.9, \"#4d9221\"], [1, \"#276419\"]], \"sequential\": [[0.0, \"#0d0887\"], [0.1111111111111111, \"#46039f\"], [0.2222222222222222, \"#7201a8\"], [0.3333333333333333, \"#9c179e\"], [0.4444444444444444, \"#bd3786\"], [0.5555555555555556, \"#d8576b\"], [0.6666666666666666, \"#ed7953\"], [0.7777777777777778, \"#fb9f3a\"], [0.8888888888888888, \"#fdca26\"], [1.0, \"#f0f921\"]], \"sequentialminus\": [[0.0, \"#0d0887\"], [0.1111111111111111, \"#46039f\"], [0.2222222222222222, \"#7201a8\"], [0.3333333333333333, \"#9c179e\"], [0.4444444444444444, \"#bd3786\"], [0.5555555555555556, \"#d8576b\"], [0.6666666666666666, \"#ed7953\"], [0.7777777777777778, \"#fb9f3a\"], [0.8888888888888888, \"#fdca26\"], [1.0, \"#f0f921\"]]}, \"colorway\": [\"#636efa\", \"#EF553B\", \"#00cc96\", \"#ab63fa\", \"#FFA15A\", \"#19d3f3\", \"#FF6692\", \"#B6E880\", \"#FF97FF\", \"#FECB52\"], \"font\": {\"color\": \"#2a3f5f\"}, \"geo\": {\"bgcolor\": \"white\", \"lakecolor\": \"white\", \"landcolor\": \"#E5ECF6\", \"showlakes\": true, \"showland\": true, \"subunitcolor\": \"white\"}, \"hoverlabel\": {\"align\": \"left\"}, \"hovermode\": \"closest\", \"mapbox\": {\"style\": \"light\"}, \"paper_bgcolor\": \"white\", \"plot_bgcolor\": \"#E5ECF6\", \"polar\": {\"angularaxis\": {\"gridcolor\": \"white\", \"linecolor\": \"white\", \"ticks\": \"\"}, \"bgcolor\": \"#E5ECF6\", \"radialaxis\": {\"gridcolor\": \"white\", \"linecolor\": \"white\", \"ticks\": \"\"}}, \"scene\": {\"xaxis\": {\"backgroundcolor\": \"#E5ECF6\", \"gridcolor\": \"white\", \"gridwidth\": 2, \"linecolor\": \"white\", \"showbackground\": true, \"ticks\": \"\", \"zerolinecolor\": \"white\"}, \"yaxis\": {\"backgroundcolor\": \"#E5ECF6\", \"gridcolor\": \"white\", \"gridwidth\": 2, \"linecolor\": \"white\", \"showbackground\": true, \"ticks\": \"\", \"zerolinecolor\": \"white\"}, \"zaxis\": {\"backgroundcolor\": \"#E5ECF6\", \"gridcolor\": \"white\", \"gridwidth\": 2, \"linecolor\": \"white\", \"showbackground\": true, \"ticks\": \"\", \"zerolinecolor\": \"white\"}}, \"shapedefaults\": {\"line\": {\"color\": \"#2a3f5f\"}}, \"ternary\": {\"aaxis\": {\"gridcolor\": \"white\", \"linecolor\": \"white\", \"ticks\": \"\"}, \"baxis\": {\"gridcolor\": \"white\", \"linecolor\": \"white\", \"ticks\": \"\"}, \"bgcolor\": \"#E5ECF6\", \"caxis\": {\"gridcolor\": \"white\", \"linecolor\": \"white\", \"ticks\": \"\"}}, \"title\": {\"x\": 0.05}, \"xaxis\": {\"automargin\": true, \"gridcolor\": \"white\", \"linecolor\": \"white\", \"ticks\": \"\", \"title\": {\"standoff\": 15}, \"zerolinecolor\": \"white\", \"zerolinewidth\": 2}, \"yaxis\": {\"automargin\": true, \"gridcolor\": \"white\", \"linecolor\": \"white\", \"ticks\": \"\", \"title\": {\"standoff\": 15}, \"zerolinecolor\": \"white\", \"zerolinewidth\": 2}}}},\n",
              "                        {\"responsive\": true}\n",
              "                    ).then(function(){\n",
              "                            \n",
              "var gd = document.getElementById('ac3acbc5-f911-47ed-b5b1-de30ecd9d589');\n",
              "var x = new MutationObserver(function (mutations, observer) {{\n",
              "        var display = window.getComputedStyle(gd).display;\n",
              "        if (!display || display === 'none') {{\n",
              "            console.log([gd, 'removed!']);\n",
              "            Plotly.purge(gd);\n",
              "            observer.disconnect();\n",
              "        }}\n",
              "}});\n",
              "\n",
              "// Listen for the removal of the full notebook cells\n",
              "var notebookContainer = gd.closest('#notebook-container');\n",
              "if (notebookContainer) {{\n",
              "    x.observe(notebookContainer, {childList: true});\n",
              "}}\n",
              "\n",
              "// Listen for the clearing of the current output cell\n",
              "var outputEl = gd.closest('.output');\n",
              "if (outputEl) {{\n",
              "    x.observe(outputEl, {childList: true});\n",
              "}}\n",
              "\n",
              "                        })\n",
              "                };\n",
              "                \n",
              "            </script>\n",
              "        </div>\n",
              "</body>\n",
              "</html>"
            ]
          },
          "metadata": {
            "tags": []
          }
        }
      ]
    },
    {
      "cell_type": "code",
      "metadata": {
        "id": "8kB_R9cyMBSb",
        "colab_type": "code",
        "colab": {
          "base_uri": "https://localhost:8080/",
          "height": 68
        },
        "outputId": "9c07d4f3-d6a3-478d-b691-1b7f3661624e"
      },
      "source": [
        "#how many violations across all agencies were given to NY registered vechiles vs OH registered vechiles#\n",
        "import pandas as pd\n",
        "import dateutil\n",
        "dfexcel= pd.read_excel('https://raw.githubusercontent.com/ArsenioMGonzalez3/Project3_ABDS/master/Open%20Parking%20and%20Camera%20Violations_OH%20NY_2019_2020%20YTD.xlsx')\n",
        "dfexcel['State'].value_counts()"
      ],
      "execution_count": null,
      "outputs": [
        {
          "output_type": "execute_result",
          "data": {
            "text/plain": [
              "NY    61524\n",
              "OH      103\n",
              "Name: State, dtype: int64"
            ]
          },
          "metadata": {
            "tags": []
          },
          "execution_count": 18
        }
      ]
    },
    {
      "cell_type": "code",
      "metadata": {
        "id": "4ZzoR0kaaRnK",
        "colab_type": "code",
        "colab": {
          "base_uri": "https://localhost:8080/",
          "height": 119
        },
        "outputId": "70b59add-efad-46f7-fa23-81d70d372b69"
      },
      "source": [
        "#how many violations were given to vechicles registered in OH and by which agencies#\n",
        "import pandas as pd\n",
        "import dateutil\n",
        "dfexcel= pd.read_excel('https://raw.githubusercontent.com/ArsenioMGonzalez3/Project3_ABDS/master/Open%20Parking%20and%20Camera%20Violations_OH%20NY_2019_2020%20YTD.xlsx')\n",
        "dfexcel['Issuing Agency'].value_counts()\n",
        "dfexcel.loc[dfexcel['State'] == 'OH', 'Issuing Agency'].value_counts()"
      ],
      "execution_count": null,
      "outputs": [
        {
          "output_type": "execute_result",
          "data": {
            "text/plain": [
              "DEPARTMENT OF TRANSPORTATION    47\n",
              "TRAFFIC                         35\n",
              "POLICE DEPARTMENT               13\n",
              "DEPARTMENT OF SANITATION         7\n",
              "PARKS DEPARTMENT                 1\n",
              "Name: Issuing Agency, dtype: int64"
            ]
          },
          "metadata": {
            "tags": []
          },
          "execution_count": 32
        }
      ]
    },
    {
      "cell_type": "code",
      "metadata": {
        "id": "mdlETG2skQHa",
        "colab_type": "code",
        "colab": {
          "base_uri": "https://localhost:8080/",
          "height": 295
        },
        "outputId": "831dd53d-1ad0-40b3-a5e2-6084009f6235"
      },
      "source": [
        "#Create a visual that displays the issuing agencies who ticketed vechiles with OH plates 2019-2020#\n",
        "# libraries\n",
        "import numpy as np\n",
        "import matplotlib.pyplot as plt\n",
        " \n",
        "# Choose the height of the bars\n",
        "height = [1,7,13,47,35]\n",
        " \n",
        "# Choose the names of the bars\n",
        "bars = ('ParksDept','Sanitation', 'Police', 'Transportation', 'Traffic')\n",
        "y_pos = np.arange(len(bars))\n",
        " \n",
        "# Create bars\n",
        "plt.bar(y_pos, height)\n",
        " \n",
        "# Create names on the x-axis\n",
        "plt.xticks(y_pos, bars, color='black')\n",
        "plt.yticks(color='black')\n",
        "plt.title('Top 5 NYC Agencies Issuing Violations for OH registered Vechicles in NYC  2019-2020')\n",
        "plt.xlabel(\"Issuing Agency\")\n",
        "plt.ylabel(\"Number of Violations Issued\")\n",
        "# Show graphic\n",
        "plt.show()\n"
      ],
      "execution_count": null,
      "outputs": [
        {
          "output_type": "display_data",
          "data": {
            "image/png": "[encoded data removed]",
            "text/plain": [
              "<Figure size 432x288 with 1 Axes>"
            ]
          },
          "metadata": {
            "tags": [],
            "needs_background": "light"
          }
        }
      ]
    },
    {
      "cell_type": "code",
      "metadata": {
        "id": "d7P6qNOJbi6u",
        "colab_type": "code",
        "colab": {
          "base_uri": "https://localhost:8080/",
          "height": 238
        },
        "outputId": "2a06c129-1516-4f05-dc7a-5fc20b6dd142"
      },
      "source": [
        "#how many tickets were issued to vechiles registered in NY and by which agencie between 2019-2020#\n",
        "import pandas as pd\n",
        "import dateutil\n",
        "dfexcel= pd.read_excel('https://raw.githubusercontent.com/ArsenioMGonzalez3/Project3_ABDS/master/Open%20Parking%20and%20Camera%20Violations_OH%20NY_2019_2020%20YTD.xlsx')\n",
        "dfexcel['Issuing Agency'].value_counts()\n",
        "dfexcel.loc[dfexcel['State'] == 'NY', 'Issuing Agency'].value_counts()"
      ],
      "execution_count": null,
      "outputs": [
        {
          "output_type": "execute_result",
          "data": {
            "text/plain": [
              "TRAFFIC                               26344\n",
              "DEPARTMENT OF TRANSPORTATION          22065\n",
              "POLICE DEPARTMENT                     10340\n",
              "DEPARTMENT OF SANITATION               2457\n",
              "OTHER/UNKNOWN AGENCIES                  239\n",
              "PARKS DEPARTMENT                         54\n",
              "FIRE DEPARTMENT                           8\n",
              "NYC TRANSIT AUTHORITY MANAGERS            6\n",
              "PORT AUTHORITY                            5\n",
              "CON RAIL                                  2\n",
              "NYS OFFICE OF MENTAL HEALTH POLICE        2\n",
              "HOUSING AUTHORITY                         2\n",
              "Name: Issuing Agency, dtype: int64"
            ]
          },
          "metadata": {
            "tags": []
          },
          "execution_count": 33
        }
      ]
    },
    {
      "cell_type": "code",
      "metadata": {
        "id": "nL4XSxHzjhm1",
        "colab_type": "code",
        "colab": {
          "base_uri": "https://localhost:8080/",
          "height": 295
        },
        "outputId": "355bb13e-3952-4128-e71f-d7e4765995b7"
      },
      "source": [
        "#create a visualization that displays top 5 agencies that ticketed NY registered vechiles and how many between 2019-2020#\n",
        "# libraries\n",
        "import numpy as np\n",
        "import matplotlib.pyplot as plt\n",
        " \n",
        "# Choose the height of the bars\n",
        "height = [239,2457,10340,22065,26344]\n",
        " \n",
        "# Choose the names of the bars\n",
        "bars = ('Other', 'Sanitaion', 'Police', 'Transportation', 'Traffic')\n",
        "y_pos = np.arange(len(bars))\n",
        " \n",
        "# Create bars\n",
        "plt.bar(y_pos,height)\n",
        " \n",
        "# Create names on the x-axis\n",
        "plt.xticks(y_pos, bars, color='black')\n",
        "plt.yticks(color='black')\n",
        "plt.title('Top 5 NYC Agencies Issuing Violations for NY registered Vechicles 2019-2020')\n",
        "plt.xlabel(\"Issuing Agency\")\n",
        "plt.ylabel(\"Number of Violations Issued\")\n",
        "# Show graphic\n",
        "plt.show()\n"
      ],
      "execution_count": null,
      "outputs": [
        {
          "output_type": "display_data",
          "data": {
            "image/png": "[encoded data removed]",
            "text/plain": [
              "<Figure size 432x288 with 1 Axes>"
            ]
          },
          "metadata": {
            "tags": [],
            "needs_background": "light"
          }
        }
      ]
    },
    {
      "cell_type": "code",
      "metadata": {
        "id": "PTNhDEs1jRBW",
        "colab_type": "code",
        "colab": {
          "base_uri": "https://localhost:8080/",
          "height": 447
        },
        "outputId": "3fe36d4b-678a-40bb-db66-56a55a26eeee"
      },
      "source": [
        "#another code that displays OH violations by agency#\n",
        "import pandas as pd\n",
        "import dateutil\n",
        "dfexcel= pd.read_excel('https://raw.githubusercontent.com/ArsenioMGonzalez3/Project3_ABDS/master/Open%20Parking%20and%20Camera%20Violations_OH%20NY_2019_2020%20YTD.xlsx')\n",
        "dfexcel['Issuing Agency'].value_counts()\n",
        "dfexcel = dfexcel.loc[dfexcel['State'] == 'OH', 'Issuing Agency'].value_counts().plot(kind='bar')\n",
        "dfexcel"
      ],
      "execution_count": 1,
      "outputs": [
        {
          "output_type": "execute_result",
          "data": {
            "text/plain": [
              "<matplotlib.axes._subplots.AxesSubplot at 0x7fb3e57c3eb8>"
            ]
          },
          "metadata": {
            "tags": []
          },
          "execution_count": 1
        },
        {
          "output_type": "display_data",
          "data": {
            "image/png": "[encoded data removed]",
            "text/plain": [
              "<Figure size 432x288 with 1 Axes>"
            ]
          },
          "metadata": {
            "tags": [],
            "needs_background": "light"
          }
        }
      ]
    },
    {
      "cell_type": "code",
      "metadata": {
        "id": "bqN7otF-joS_",
        "colab_type": "code",
        "colab": {
          "base_uri": "https://localhost:8080/",
          "height": 470
        },
        "outputId": "06e25587-503d-441b-e6f8-ee6c6a774bbc"
      },
      "source": [
        "#another code that displays NY violations by agency#\n",
        "import pandas as pd\n",
        "import dateutil\n",
        "dfexcel= pd.read_excel('https://raw.githubusercontent.com/ArsenioMGonzalez3/Project3_ABDS/master/Open%20Parking%20and%20Camera%20Violations_OH%20NY_2019_2020%20YTD.xlsx')\n",
        "dfexcel['Issuing Agency'].value_counts()\n",
        "dfexcel = dfexcel.loc[dfexcel['State'] == 'NY', 'Issuing Agency'].value_counts().plot(kind='bar')\n",
        "dfexcel"
      ],
      "execution_count": 3,
      "outputs": [
        {
          "output_type": "execute_result",
          "data": {
            "text/plain": [
              "<matplotlib.axes._subplots.AxesSubplot at 0x7fb3eef05438>"
            ]
          },
          "metadata": {
            "tags": []
          },
          "execution_count": 3
        },
        {
          "output_type": "display_data",
          "data": {
            "image/png": "[encoded data removed]",
            "text/plain": [
              "<Figure size 432x288 with 1 Axes>"
            ]
          },
          "metadata": {
            "tags": [],
            "needs_background": "light"
          }
        }
      ]
    }
  ]
}